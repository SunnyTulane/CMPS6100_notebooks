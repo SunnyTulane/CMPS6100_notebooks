{
 "cells": [
  {
   "cell_type": "markdown",
   "metadata": {},
   "source": [
    "# Loops\n",
    "\n",
    "Automating repetitive tasks is fundamentally useful in computing.\n",
    "\n",
    "There are two types of loops we can use in python:\n",
    "\n",
    "- while loops\n",
    "- for loops\n",
    "\n",
    "## While Loops, Conditional Iteration\n",
    "\n",
    "While loops are used to implement **conditional iteration**, a set of instructions that repeats as long as some condition is `True`.\n",
    "\n",
    "The syntax is as follows:\n",
    "\n",
    "```python\n",
    "while conditional_statement:\n",
    "    # instruction 1\n",
    "    # instruction 2\n",
    "    # instruction 3\n",
    "    # ...\n",
    "# instructions to execute after loop completes \n",
    "```"
   ]
  },
  {
   "cell_type": "markdown",
   "metadata": {},
   "source": [
    "The conditional statement is any expression that evaluates to `True` or `False`.\n",
    "\n",
    "At some point, the condition should eventually evaluate to `False`, otherwise the loop will never quit."
   ]
  },
  {
   "cell_type": "code",
   "execution_count": null,
   "metadata": {},
   "outputs": [],
   "source": [
    "num = 0\n",
    "increment = 17\n",
    "while num < 100:\n",
    "    print(\"{} is a multiple of {}.\".format(num, increment))\n",
    "    num = num + increment"
   ]
  },
  {
   "cell_type": "markdown",
   "metadata": {},
   "source": [
    "\n",
    "While loops are useful in a general sense, but a common use case is to validate user input.\n",
    "\n",
    "For example:"
   ]
  },
  {
   "cell_type": "code",
   "execution_count": null,
   "metadata": {},
   "outputs": [],
   "source": [
    "count = 0\n",
    "while True:\n",
    "    count += 1 # shorthand notation for count = count + 1\n",
    "    num = int(input(\"Enter an odd number: \"))\n",
    "    if num % 2 == 1:\n",
    "        break # quit the loop\n",
    "    else:\n",
    "        print(\"{} isn't odd! Try again.\".format(num))\n",
    "\n",
    "if count >= 4:\n",
    "    print(\"Finally! You've entered an odd number: {}\".format(num))\n",
    "else:\n",
    "    print(\"Thank you. You've entered {}\".format(num))"
   ]
  },
  {
   "cell_type": "markdown",
   "metadata": {},
   "source": [
    "### `break` and `continue`\n",
    "\n",
    "Here we have used a `break` statement. A `break` statement will \"break out\" of the current loop when executed. In other words, a `break` statement quits the loop.\n",
    "\n",
    "There is also a `continue` statement. A `continue` statement skips the rest of the instructions in the current iteration and moves on to the next.\n",
    "\n",
    "For example:"
   ]
  },
  {
   "cell_type": "code",
   "execution_count": null,
   "metadata": {},
   "outputs": [],
   "source": [
    "# What will be output by the following?\n",
    "i = 0\n",
    "while i < 10:\n",
    "    i += 1\n",
    "    if i % 2 == 0:\n",
    "        continue\n",
    "    print(i)"
   ]
  },
  {
   "cell_type": "markdown",
   "metadata": {},
   "source": [
    "### Nested Structures\n",
    "\n",
    "Noteote that it is perfectly fine to nest `if-else` statements within loops. We could also nest loops within themselves or `if-else` statements within themselves if we need or want to.\n",
    "\n",
    "A nested structure will always be indented one level further than the outer structure."
   ]
  },
  {
   "cell_type": "markdown",
   "metadata": {},
   "source": [
    "## For Loops, Counting Iteration\n",
    "\n",
    "While loops are great if we don't know how many times a loop will need to execute.\n",
    "\n",
    "If we know how many times we need a set of instructions to execute, we can use a `for` loop to execute them exactly that many times.\n",
    "\n",
    "The basic syntax is:\n",
    "\n",
    "```python\n",
    "num_iterations = 10\n",
    "\n",
    "for i in range(num_iterations):\n",
    "    # instructions to execute \n",
    "```"
   ]
  },
  {
   "cell_type": "markdown",
   "metadata": {},
   "source": [
    "The `range()` function returns a range of numbers that a loop can execute over where the basic usage is to pass in the number of times the loop will execute.\n",
    "\n",
    "For example, `range(5)` will cause the loop to execute its instructions 5 times.\n",
    "\n",
    "The `i` variable will hold the current iteration at every step of the loop.\n",
    "\n",
    "By default, `range()` starts counting from 0. Starting to count from 0 is common throughout computer science."
   ]
  },
  {
   "cell_type": "code",
   "execution_count": null,
   "metadata": {},
   "outputs": [],
   "source": [
    "for i in range(5):\n",
    "    print(i)"
   ]
  },
  {
   "cell_type": "markdown",
   "metadata": {},
   "source": [
    "A second for loop example:"
   ]
  },
  {
   "cell_type": "code",
   "execution_count": null,
   "metadata": {},
   "outputs": [],
   "source": [
    "num = 17\n",
    "for i in range(100):\n",
    "    if i % num == 0:\n",
    "        print(\"{} is a multiple of {}.\".format(i, num))"
   ]
  },
  {
   "cell_type": "markdown",
   "metadata": {},
   "source": [
    "`range()` is more flexible in its usage. It can be called in three ways:\n",
    "\n",
    "1) `range(stop)`\n",
    "    - iterate over values from 0 to `stop`-1\n",
    "2) `range(start, stop)`\n",
    "    - iterate over values from `start` to `stop`-1\n",
    "3) `range(start, stop, step)`\n",
    "    - iterate over values from `start` to `stop`-1 in increments of `step`\n",
    "\n",
    "We could rewrite the previous for loop as follows:"
   ]
  },
  {
   "cell_type": "markdown",
   "metadata": {},
   "source": [
    "## Practice"
   ]
  },
  {
   "cell_type": "markdown",
   "metadata": {},
   "source": [
    "### Stepping over a range\n",
    "\n",
    "Rewrite the previous loop using `range(start, stop, step)`:"
   ]
  },
  {
   "cell_type": "code",
   "execution_count": null,
   "metadata": {},
   "outputs": [],
   "source": [
    "for i in range(0, 100, 17):\n",
    "    print(\"{} is a multiple of 17\".format(i))\n",
    "\n",
    "        "
   ]
  },
  {
   "cell_type": "markdown",
   "metadata": {},
   "source": [
    "### Is Prime\n",
    "\n",
    "Implement a program which reads in a number from the user and iterates over all possible divisors which are greater than 2 and less than half of it. If it is divisible by any of them, output that it is composite. Else, output that it is prime."
   ]
  },
  {
   "cell_type": "code",
   "execution_count": null,
   "metadata": {},
   "outputs": [],
   "source": [
    "num = int(input(\"Enter a prime number: \"))\n",
    "\n",
    "i = 2\n",
    "\n",
    "prime = True\n",
    "\n",
    "while i <= num/2:\n",
    "    if num % i == 0:\n",
    "        prime = False\n",
    "        break\n",
    "    i+=1\n",
    "\n",
    "if prime:\n",
    "    print(\"{} is a prime number!\".format(num))\n",
    "else:\n",
    "    print(\"{} is a composite number\".format(num))"
   ]
  },
  {
   "cell_type": "markdown",
   "metadata": {},
   "source": [
    "### Input Verification\n",
    "\n",
    "In an earlier practice problem you implemented the following menu for the user:\n",
    "\n",
    "The user may choose option:\n",
    "- \"1\" to attack\n",
    "- \"2\" to take a potion\n",
    "- \"3\" to flee. \n",
    "\n",
    "Previously, you output \"Invalid choice, game over!\" if the user did not enter valid input.\n",
    "\n",
    "Now, implement a program that repeatedly prompts the user for their choice until they enter a valid choice. Once they enter a valid choice, output the action they have chose."
   ]
  },
  {
   "cell_type": "code",
   "execution_count": 3,
   "metadata": {},
   "outputs": [
    {
     "name": "stdout",
     "output_type": "stream",
     "text": [
      "Please try again putting an option 1-3: \n",
      "Please try again putting an option 1-3: \n",
      "Please try again putting an option 1-3: \n",
      "You have chosen to attack the dragon! Well done you brave soul!\n"
     ]
    }
   ],
   "source": [
    "\n",
    "\n",
    "while True:\n",
    "    x = int(input(\"What will you do to free the princess? Choose an option 1-3: \"))\n",
    "\n",
    "    if x == 1:\n",
    "        print(\"You have chosen to attack the dragon! Well done you brave soul!\")\n",
    "        break\n",
    "    elif x == 2:\n",
    "        print(\"You have chosen to take a potion, quite meek of you!\")\n",
    "        break\n",
    "    elif x == 3:\n",
    "        print(\"Even worse! You've chosen to flee you coward!\")\n",
    "        break\n",
    "    else:\n",
    "        print(\"Please try again putting an option 1-3: \")\n",
    "    "
   ]
  }
 ],
 "metadata": {
  "kernelspec": {
   "display_name": "Python 3.9.6 64-bit",
   "language": "python",
   "name": "python3"
  },
  "language_info": {
   "codemirror_mode": {
    "name": "ipython",
    "version": 3
   },
   "file_extension": ".py",
   "mimetype": "text/x-python",
   "name": "python",
   "nbconvert_exporter": "python",
   "pygments_lexer": "ipython3",
   "version": "3.9.6"
  },
  "orig_nbformat": 4,
  "vscode": {
   "interpreter": {
    "hash": "aee8b7b246df8f9039afb4144a1f6fd8d2ca17a180786b69acc140d282b71a49"
   }
  }
 },
 "nbformat": 4,
 "nbformat_minor": 2
}
