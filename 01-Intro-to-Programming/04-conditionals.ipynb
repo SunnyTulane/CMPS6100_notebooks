{
 "cells": [
  {
   "cell_type": "markdown",
   "metadata": {},
   "source": [
    "# Conditionals\n",
    "\n",
    "**Conditionals**, or `if-else` statements allow us to execute one set of instructions if one condition is `True` and another set otherwise.\n",
    "\n",
    "In addition to our standard mathematical operators, we also have boolean operators that allow us to determine if a condition is `True` or `False`\n",
    "\n",
    "`<`, `>`, `<=`, `>=`, `==`, `!=`, `and`, `or`, `not`"
   ]
  },
  {
   "cell_type": "code",
   "execution_count": 6,
   "metadata": {},
   "outputs": [
    {
     "name": "stdout",
     "output_type": "stream",
     "text": [
      "0 is neither positive nor negative.\n"
     ]
    }
   ],
   "source": [
    "num = int(input(\"Enter an integer: \"))\n",
    "\n",
    "if num > 0:\n",
    "    print(\"{} is positive.\".format(num))\n",
    "elif num < 0:\n",
    "    print(\"{} is negative.\".format(num))\n",
    "else:\n",
    "    print(\"{} is neither positive nor negative.\".format(num))"
   ]
  },
  {
   "cell_type": "markdown",
   "metadata": {},
   "source": [
    "With that example, here are a couple of notes:\n",
    "\n",
    "- We say that `if-elif-else` statements are made of **blocks**.\n",
    "\n",
    "- Each of the blocks is mutually exclusive. That is, if the `if` block executes, neither of the other two will. The same is true for each.\n",
    "- The only block that is required is the `if` block. \n",
    "- There can be multiple `elif` blocks. \n",
    "- There can only be one `else` block. If it exists, it must be the last block. \n",
    "- All instructions that belong to a block must be indented to the same level.\n"
   ]
  },
  {
   "cell_type": "markdown",
   "metadata": {},
   "source": [
    "The above example is relatively basic, but we can use logical operators to test for more complicated conditions."
   ]
  },
  {
   "cell_type": "code",
   "execution_count": 7,
   "metadata": {},
   "outputs": [
    {
     "name": "stdout",
     "output_type": "stream",
     "text": [
      "10 is either in the range [0,100] or 10 is a negative even number\n"
     ]
    }
   ],
   "source": [
    "num = int(input(\"Enter an integer: \"))\n",
    "\n",
    "if num % 2 == 0 and num % 3 == 0:\n",
    "    print(\"{} is divisible by 6\".format(num))\n",
    "\n",
    "if (num >= 0 and num <= 100) or (num < 0 and num % 2 == 0):\n",
    "    print(\"{} is either in the range [0,100] or {} is a negative even number\".format(num, num))"
   ]
  },
  {
   "cell_type": "markdown",
   "metadata": {},
   "source": [
    "For what inputs does the program above result in no output being printed to the screen?"
   ]
  },
  {
   "cell_type": "markdown",
   "metadata": {},
   "source": [
    "## Practice"
   ]
  },
  {
   "cell_type": "markdown",
   "metadata": {},
   "source": [
    "### Divisibility\n",
    "\n",
    "Implement a program that reads in two **ints** and outputs whether the first is divisible by the second."
   ]
  },
  {
   "cell_type": "code",
   "execution_count": 9,
   "metadata": {},
   "outputs": [
    {
     "name": "stdout",
     "output_type": "stream",
     "text": [
      "52 is not divisible by 45\n"
     ]
    }
   ],
   "source": [
    "num1 = int(input(\"Enter first integer \"))\n",
    "num2 = int(input(\"Enter second integer \"))\n",
    "\n",
    "if num1 % num2 == 0:\n",
    "    print(\"{} is divisible by {}\".format(num1,num2))\n",
    "else:\n",
    "    print(\"{} is not divisible by {}\".format(num1,num2))"
   ]
  },
  {
   "cell_type": "markdown",
   "metadata": {},
   "source": [
    "### String contains\n",
    "\n",
    "Implement a program that reads in two **strings** and outputs whether the first contains the second. \n",
    "\n",
    "*Hint: Python provides an `in` operator.*\n",
    "\n",
    "For example, each of the following is contained in `\"racecar\"`\"\n",
    "- \"race\"\n",
    "- \"car\"\n",
    "- \"cec\"\n",
    "- \"e\""
   ]
  },
  {
   "cell_type": "code",
   "execution_count": 23,
   "metadata": {},
   "outputs": [
    {
     "name": "stdout",
     "output_type": "stream",
     "text": [
      "54 is not found in the word racecar\n"
     ]
    }
   ],
   "source": [
    "string1 = \"racecar\" \n",
    "\n",
    "string2 = input(\"Tell me some letters in racecar\" ) \n",
    "\n",
    "if(string2 in string1):\n",
    "    print(\"{} is contained in {}\".format(string2, string1))\n",
    "else:\n",
    "    print(\"{} is not found in the word racecar\".format(string2))\n",
    "          \n",
    "\n"
   ]
  },
  {
   "cell_type": "markdown",
   "metadata": {},
   "source": [
    "### User Menu\n",
    "\n",
    "Suppose you are implementing a game a where you need to present a menu to the user. \n",
    "\n",
    "The user may choose option:\n",
    "- \"1\" to attack\n",
    "- \"2\" to take a potion\n",
    "- \"3\" to flee. \n",
    "\n",
    "Implement a program which prompts the user for their choice and outputs a message stating which option they have chosen. If they did not enter a valid choice, output \"Invalid choice, game over!\""
   ]
  },
  {
   "cell_type": "code",
   "execution_count": 29,
   "metadata": {},
   "outputs": [
    {
     "name": "stdout",
     "output_type": "stream",
     "text": [
      "You have chosen to flee from the enemy\n"
     ]
    }
   ],
   "source": [
    "x = int(input(\"Choose an option against your enemy in the game\" ))\n",
    "\n",
    "if(x == 1):\n",
    "    print(\"You have chosen to attack the enemy\")\n",
    "elif(x == 2):\n",
    "    print(\"You have chosen to take a potion instead of fighting the enemy\")\n",
    "elif(x == 3):\n",
    "    print(\"You have chosen to flee from the enemy\")\n",
    "else:\n",
    "    print(\"Invalid option, play again\")\n"
   ]
  }
 ],
 "metadata": {
  "kernelspec": {
   "display_name": "Python 3.9.6 64-bit",
   "language": "python",
   "name": "python3"
  },
  "language_info": {
   "codemirror_mode": {
    "name": "ipython",
    "version": 3
   },
   "file_extension": ".py",
   "mimetype": "text/x-python",
   "name": "python",
   "nbconvert_exporter": "python",
   "pygments_lexer": "ipython3",
   "version": "3.9.6"
  },
  "orig_nbformat": 4,
  "vscode": {
   "interpreter": {
    "hash": "aee8b7b246df8f9039afb4144a1f6fd8d2ca17a180786b69acc140d282b71a49"
   }
  }
 },
 "nbformat": 4,
 "nbformat_minor": 2
}
